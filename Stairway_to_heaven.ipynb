{
 "cells": [
  {
   "cell_type": "code",
   "execution_count": 1,
   "metadata": {},
   "outputs": [],
   "source": [
    "# Libraries needed\n",
    "import json\n",
    "import requests\n",
    "import pandas as pd\n",
    "import numpy as np\n",
    "\n",
    "from alpha_vantage.cryptocurrencies import CryptoCurrencies\n",
    "import asyncio\n",
    "from alpha_vantage.async_support.timeseries import TimeSeries\n",
    "from alpha_vantage.timeseries import TimeSeries\n",
    "\n",
    "import matplotlib.pyplot as plt\n",
    "import mplfinance as mpf\n",
    "import seaborn as sns\n",
    "\n",
    "from sklearn import preprocessing\n",
    "\n",
    "import time\n",
    "import datetime\n",
    "import sys\n",
    "import time\n",
    "\n",
    "# from pprint import pprint\n",
    "# from bs4 import BeautifulSoup\n",
    "\n",
    "class stock_ml:\n",
    "    #Initialise the model\n",
    "    def __init__(self,low_cap_stock):\n",
    "        # Call the key for AlphaVantage\n",
    "        ky = pd.read_csv('AVk.txt',names='A')\n",
    "        self.k = ky.iloc[0][0]\n",
    "        \n",
    "        # Initialize the variables needed for TimeSeries to make the API requests\n",
    "        self.ts = TimeSeries(key=self.k, output_format='pandas')\n",
    "        self.url = \"https://alpha-vantage.p.rapidapi.com/query\"\n",
    "        self.headers = {\n",
    "            'x-rapidapi-host': \"alpha-vantage.p.rapidapi.com\",\n",
    "            'x-rapidapi-key': self.k\n",
    "            }\n",
    "        self.slices = ['year1month1','year1month2','year1month3','year1month4','year1month5','year1month6']\n",
    "#         self.slices = ['year1month1','year1month2']\n",
    "        self.cols = ['time', 'open', 'high', 'low', 'close', 'volume']\n",
    "        \n",
    "        # Define groups of stocks/cryptos to gather historical data through Alpha Vantage API \n",
    "        self.lc_stocks= low_cap_stock\n",
    "        print(type(self.lc_stocks))\n",
    "        self.tech_stocks=['MSFT','TSLA','AMZN','AAPL','GOOG','FB']\n",
    "        self.bank_stocks=['JPM','BAC','WFC','C','GS']\n",
    "        self.cryptos=['BTC','ETC','ETH','XRP','XLM','TRX']\n",
    "        pass\n",
    "    \n",
    "    # Function to return best matching symbols on the stock market, giving an output based on the keyword\n",
    "    def search_company(self,word):\n",
    "        search = self.ts.get_symbol_search(keywords=word)\n",
    "        search[0].index = search[0].index.astype(int)\n",
    "        finding = search[0][['1. symbol','2. name','3. type','4. region','8. currency','9. matchScore']]\n",
    "        return finding\n",
    "    \n",
    "    # Function to look for historical data of the symbol sent\n",
    "    def get_stock_price(self,stock_interval,stock_size):\n",
    "        # stock_interval:'1min', '5min', '15min'(default), '30min', '60min'\n",
    "        # stock_size: 'full', 'compact'(default)\n",
    "        print(self.lc_stocks)\n",
    "        new_list=[]\n",
    "        a = 0\n",
    "        for l_stock in self.lc_stocks:\n",
    "            for stock_intraday in self.slices:\n",
    "                querystring = {\"datatype\":\"csv\",\"slice\":stock_intraday,\"interval\":stocks_interval,\"function\":\"TIME_SERIES_INTRADAY_EXTENDED\",\"symbol\":l_stock}\n",
    "                response = requests.request(\"GET\", self.url, headers=self.headers, params=querystring)\n",
    "                \n",
    "                #If we got a 429 response, we will sleep the program for 60 seconds, then continue the requests\n",
    "                if response.status_code == 429:\n",
    "                    print(a,\"\\nTime to sleep 60 sec, too much activity!!\")\n",
    "                    while response.status_code != 200:  \n",
    "                        for i in range(60,0,-1):\n",
    "                            sys.stdout.write(str(i)+' ')\n",
    "                            sys.stdout.flush()\n",
    "                            time.sleep(1)\n",
    "                        response = requests.request(\"GET\", self.url, headers=self.headers, params=querystring)\n",
    "                        print(response)\n",
    "                \n",
    "                #Data cleaning from the request to return a clean dataframe\n",
    "                clean_string = response.text.replace('\\r\\n',',')\n",
    "                price_list = clean_string.split(sep=\",\")\n",
    "                new_list = [price_list[i:i+6] for i in range(0, len(price_list), 6)]\n",
    "                df_temp = pd.DataFrame(new_list[1:],columns=self.cols)\n",
    "                df_temp['company'] = l_stock\n",
    "                \n",
    "                if a==0:\n",
    "                    df_row = df_temp[['time','open','volume','company']]\n",
    "                    a+=1\n",
    "                    \n",
    "                else:\n",
    "                    df_row = pd.concat([df_row,df_temp],join='inner',ignore_index=True) #Index restarts for every new block added\n",
    "                    a+=1\n",
    "                    \n",
    "                df_row.dropna(inplace=True)\n",
    "                print(f'Slice {stock_intraday} completed succesfully: {l_stock}. You got so far {len(df_row)} rows.')        \n",
    "        \n",
    "        df_row['time']=pd.to_datetime(df_row['time'])\n",
    "        df_row['open']=pd.to_numeric(df_row['open'],downcast='float')\n",
    "        df_row['volume']=pd.to_numeric(df_row['volume'],downcast='float')\n",
    "        df_row['company']=df_row['company'].astype(str)\n",
    "        return df_row"
   ]
  },
  {
   "cell_type": "code",
   "execution_count": null,
   "metadata": {},
   "outputs": [],
   "source": [
    "# lc_stock = ['RIG','SHLO','NBR','INO','PTEN','HTZ','COMM','IVR','CDE','MUX','AMC','CBL','IAG','HEXO','ACB','CLNY','TLRY','FRO','VRTU','WTRH','APHA','FIT','EXK','TGI','SNDL'\n",
    "#             ,'TWO','SPRO','HMHC','MGY','HP','ERJ','PTY','CPG','ZYME','ENLC','TEN','EXPR','SUM','GERN','ETM','PEB','LC','ACOR','EHTH','FET','EVH','BITA']\n",
    "# lc_stock = ['AVYA','JKS','CCO','KDMN','INSG','BIG','CHS','GPRO','BEST','GEL','MBI','PRTS','OII','LUB','TTMI','GOL','KIRK','UXIN','EGHT','DXLG','ORC','OXLC','KYN','AHT','BLU']\n",
    "# lc_stock = ['TTI','SPWH','EXTR','ATSG','RPT','AXL','OIS','FLWS','MWA','RST','DRNA','REPL','JRO','UE','ABUS','PFL','HBM','PLT','YEXT']\n",
    "# lc_stock= ['UIS','XBIT','VHC','TTMI','TGH','ICHR','NVAX','PRTS']\n",
    "# lc_stock= ['CODX']"
   ]
  },
  {
   "cell_type": "code",
   "execution_count": 2,
   "metadata": {},
   "outputs": [
    {
     "name": "stdout",
     "output_type": "stream",
     "text": [
      "<class 'list'>\n"
     ]
    }
   ],
   "source": [
    "# lc_stock = ['CODX','UIS','XBIT','VHC','TTMI','TGH','ICHR','NVAX','PRTS','TTI','SPWH','EXTR','ATSG','RPT','AXL','OIS','FLWS','MWA','RST','DRNA','REPL','JRO','UE','ABUS','PFL','HBM','PLT','YEXT']\n",
    "lc_stock = ['CODX','UIS','XBIT','VHC','TTMI','TGH','ICHR','NVAX','PRTS','TTI','SPWH','EXTR']\n",
    "s = stock_ml(lc_stock)"
   ]
  },
  {
   "cell_type": "code",
   "execution_count": null,
   "metadata": {},
   "outputs": [],
   "source": [
    "# Ranges for differente intervals\n",
    "# '5min', size=432 (36hrs),step=48 (4hrs) \n",
    "# '5min', size=192 (16hrs),step=24 (2hrs)\n",
    "# '1min', size=960 (16hrs),step=40 (0.67hrs)\n",
    "# '1min', size=480 (8hrs),step=5 (0.08hrs)\n",
    "# '1min', size=240 (4hrs),step=4 (0.07hrs)\n",
    "\n",
    "stocks_interval = '5min'\n",
    "stocks_size = 'full'\n",
    "stock_historian = s.get_stock_price(stocks_interval,stocks_size)\n",
    "# stock_historian.info()\n",
    "\n",
    "# Reset index and order dataframe for ML\n",
    "stock_history = stock_historian.copy(deep=True)\n",
    "stock_history.set_index('time',inplace=True)\n",
    "stock_history.rename_axis(\"index\",inplace=True)\n",
    "stock_history.sort_values(by=['company','index'],ascending = [False, True],inplace=True)"
   ]
  },
  {
   "cell_type": "code",
   "execution_count": null,
   "metadata": {},
   "outputs": [],
   "source": [
    "stock_history"
   ]
  },
  {
   "cell_type": "code",
   "execution_count": null,
   "metadata": {},
   "outputs": [],
   "source": [
    "# stock_history.to_csv(\"small_cap.csv\")"
   ]
  },
  {
   "cell_type": "code",
   "execution_count": 3,
   "metadata": {},
   "outputs": [],
   "source": [
    "stock_history = pd.read_csv('small_cap_2.csv')"
   ]
  },
  {
   "cell_type": "code",
   "execution_count": null,
   "metadata": {},
   "outputs": [],
   "source": [
    "# stock_history[stock_history['company']=='CODX']"
   ]
  },
  {
   "cell_type": "code",
   "execution_count": 4,
   "metadata": {},
   "outputs": [
    {
     "name": "stdout",
     "output_type": "stream",
     "text": [
      "CODX :  345\n",
      "UIS :  544\n",
      "XBIT :  731\n",
      "VHC :  935\n",
      "TTMI :  1136\n",
      "TGH :  1327\n",
      "ICHR :  1524\n",
      "NVAX :  1892\n",
      "PRTS :  2090\n",
      "TTI :  2372\n",
      "SPWH :  2582\n",
      "EXTR :  2789\n"
     ]
    }
   ],
   "source": [
    "# Make slices of comparable data, then normalize it and calculate the metrics to select patterns to look for, according to the benefit amount\n",
    "size = 432\n",
    "step = 48\n",
    "stock_lists = []\n",
    "stock_norm = pd.DataFrame()\n",
    "\n",
    "metrics = pd.DataFrame(columns=['M1','M2','M3','M4','maxi','maxi_index','mini','mini_index','mean','moda',\n",
    "                                'first','index_start','last','index_last'],dtype=np.float)\n",
    "\n",
    "# Cut data in slices\n",
    "for name in lc_stock:\n",
    "    stock_lists_temp = [stock_history[stock_history['company']==name][['open','company']][i:i+size] for i in \n",
    "                        range(0, len(stock_history[stock_history['company']==name][['open']]), step) if \n",
    "                        len(stock_history[stock_history['company']==name][['open','company']][i:i+size])==size]\n",
    "    stock_lists = stock_lists + stock_lists_temp\n",
    "    \n",
    "    print(name,': ',len(stock_lists))\n"
   ]
  },
  {
   "cell_type": "code",
   "execution_count": 5,
   "metadata": {},
   "outputs": [],
   "source": [
    "# Normalize\n",
    "for a in stock_lists:\n",
    "    a['normalized'] = (a['open']-a['open'].min())/(a['open'].max()-a['open'].min())"
   ]
  },
  {
   "cell_type": "code",
   "execution_count": 6,
   "metadata": {},
   "outputs": [
    {
     "data": {
      "text/plain": [
       "open              21.44\n",
       "company            ICHR\n",
       "normalized    0.0340426\n",
       "Name: 97680, dtype: object"
      ]
     },
     "execution_count": 6,
     "metadata": {},
     "output_type": "execute_result"
    }
   ],
   "source": [
    "stock_lists[1400].loc[97680]"
   ]
  },
  {
   "cell_type": "code",
   "execution_count": 7,
   "metadata": {},
   "outputs": [],
   "source": [
    "X = []\n",
    "y = []\n",
    "for i in range(0,len(stock_lists)):\n",
    "    X.append(list(stock_lists[i]['normalized']))\n",
    "    y.append(stock_lists[i].iloc[0,1])\n"
   ]
  },
  {
   "cell_type": "code",
   "execution_count": null,
   "metadata": {},
   "outputs": [],
   "source": [
    "# stock_lists[0].iloc[0]"
   ]
  },
  {
   "cell_type": "code",
   "execution_count": 8,
   "metadata": {},
   "outputs": [],
   "source": [
    "df_X = pd.DataFrame(X)\n",
    "df_X.dropna(inplace=True)"
   ]
  },
  {
   "cell_type": "code",
   "execution_count": 9,
   "metadata": {},
   "outputs": [],
   "source": [
    "\n",
    "index = df_X.index\n",
    "df_y = pd.DataFrame(y)\n",
    "df_y = df_y.loc[index]"
   ]
  },
  {
   "cell_type": "code",
   "execution_count": null,
   "metadata": {},
   "outputs": [],
   "source": [
    "import hdbscan\n",
    "from sklearn.neighbors import NearestNeighbors\n",
    "from sklearn.cluster import DBSCAN"
   ]
  },
  {
   "cell_type": "code",
   "execution_count": null,
   "metadata": {},
   "outputs": [],
   "source": [
    "clusterer = hdbscan.HDBSCAN(min_cluster_size=3, gen_min_span_tree=False)\n",
    "clusterer.fit(np.array(df_X))\n",
    "clusterer.labels_\n",
    "df = pd.concat([df_X,df_y],axis=1)\n",
    "df['label'] = clusterer.labels_\n",
    "# df.groupby('label').aggregate({0:'count'})"
   ]
  },
  {
   "cell_type": "code",
   "execution_count": null,
   "metadata": {},
   "outputs": [],
   "source": [
    "df.groupby('label').count()[1]"
   ]
  },
  {
   "cell_type": "code",
   "execution_count": null,
   "metadata": {},
   "outputs": [],
   "source": [
    "neigh = NearestNeighbors(n_neighbors=2)\n",
    "nbrs = neigh.fit(np.array(df_X))\n",
    "distances, indices = nbrs.kneighbors(np.array(df_X))\n",
    "distances = np.sort(distances, axis=0)\n",
    "distances = distances[:,1]\n",
    "plt.plot(distances)"
   ]
  },
  {
   "cell_type": "code",
   "execution_count": null,
   "metadata": {},
   "outputs": [],
   "source": [
    "m = DBSCAN(eps=0.3, min_samples=5)\n",
    "m.fit(np.array(df_X))\n",
    "colors = ['royalblue', 'maroon', 'forestgreen', 'mediumorchid', 'tan', 'deeppink', 'olive', 'goldenrod', 'lightcyan', 'navy']\n",
    "vectorizer = np.vectorize(lambda x: colors[x % len(colors)])\n",
    "plt.scatter(df_X[:,0], df_X[:,1], c=vectorizer(clusters))\n"
   ]
  },
  {
   "cell_type": "code",
   "execution_count": 10,
   "metadata": {},
   "outputs": [
    {
     "data": {
      "text/html": [
       "<div>\n",
       "<style scoped>\n",
       "    .dataframe tbody tr th:only-of-type {\n",
       "        vertical-align: middle;\n",
       "    }\n",
       "\n",
       "    .dataframe tbody tr th {\n",
       "        vertical-align: top;\n",
       "    }\n",
       "\n",
       "    .dataframe thead th {\n",
       "        text-align: right;\n",
       "    }\n",
       "</style>\n",
       "<table border=\"1\" class=\"dataframe\">\n",
       "  <thead>\n",
       "    <tr style=\"text-align: right;\">\n",
       "      <th></th>\n",
       "      <th>M1</th>\n",
       "      <th>M2</th>\n",
       "      <th>M3</th>\n",
       "      <th>M4</th>\n",
       "      <th>maxi</th>\n",
       "      <th>maxi_index</th>\n",
       "      <th>mini</th>\n",
       "      <th>mini_index</th>\n",
       "      <th>mean</th>\n",
       "      <th>moda</th>\n",
       "      <th>first</th>\n",
       "      <th>index_start</th>\n",
       "      <th>last</th>\n",
       "      <th>index_last</th>\n",
       "    </tr>\n",
       "  </thead>\n",
       "  <tbody>\n",
       "  </tbody>\n",
       "</table>\n",
       "</div>"
      ],
      "text/plain": [
       "Empty DataFrame\n",
       "Columns: [M1, M2, M3, M4, maxi, maxi_index, mini, mini_index, mean, moda, first, index_start, last, index_last]\n",
       "Index: []"
      ]
     },
     "execution_count": 10,
     "metadata": {},
     "output_type": "execute_result"
    }
   ],
   "source": [
    "metrics"
   ]
  },
  {
   "cell_type": "code",
   "execution_count": 11,
   "metadata": {},
   "outputs": [],
   "source": [
    "# Define metrics to measure \n",
    "metrics = pd.DataFrame(columns=['M1','M2','M3','M4','maxi','maxi_index','mini','mini_index','mean','moda',\n",
    "                                'first','index_start','last','index_last'],dtype=np.float)\n",
    "for a in stock_lists:\n",
    "    maxi = a['open'].max()\n",
    "    maxi_index = a['open'].idxmax()\n",
    "    mini = a['open'].min()\n",
    "    mini_index = a['open'].idxmin()\n",
    "    means = a['open'].mean()\n",
    "    moda = a['open'].mode()[0]\n",
    "    index_start = a.index.min()\n",
    "    index_end = a.index.max()\n",
    "    firsts = a.loc[index_start][0]\n",
    "    lasts = a.loc[index_end][0]\n",
    "    metric1 = (maxi/mini) - 1\n",
    "    metric2 = metric1 + (1 - abs(means / firsts))\n",
    "    metric3 = metric1 + (1 - abs(means / lasts))\n",
    "    metric4 = metric1 + ((means-moda) / means)\n",
    "    metrics.loc[len(metrics)] = [metric1,metric2,metric3,metric4,maxi,maxi_index,mini,mini_index,means,moda,firsts,index_start,lasts,index_end]\n",
    "#     metrics.loc[len(metrics)] = [metric1,metric2,metric3,metric4]\n",
    "\n",
    "# print(maxi,mini,mean,first,last,moda)\n",
    "# print(metric1,metric2,metric3)"
   ]
  },
  {
   "cell_type": "code",
   "execution_count": 12,
   "metadata": {},
   "outputs": [
    {
     "name": "stdout",
     "output_type": "stream",
     "text": [
      "M1    0.242315\n",
      "M2    0.224113\n",
      "M3    0.249396\n",
      "M4    0.250235\n",
      "dtype: float64\n"
     ]
    },
    {
     "data": {
      "text/plain": [
       "<matplotlib.axes._subplots.AxesSubplot at 0x54683748>"
      ]
     },
     "execution_count": 12,
     "metadata": {},
     "output_type": "execute_result"
    },
    {
     "data": {
      "image/png": "[encoded data removed]",
      "text/plain": [
       "<Figure size 432x288 with 1 Axes>"
      ]
     },
     "metadata": {
      "needs_background": "light"
     },
     "output_type": "display_data"
    }
   ],
   "source": [
    "# Plot different metrics to select one\n",
    "print(metrics[['M1','M2','M3','M4']][0:].mean())\n",
    "metrics['M4'].plot(kind='kde')"
   ]
  },
  {
   "cell_type": "code",
   "execution_count": 13,
   "metadata": {},
   "outputs": [
    {
     "name": "stdout",
     "output_type": "stream",
     "text": [
      "2213 2.0475815856686865\n"
     ]
    },
    {
     "data": {
      "text/plain": [
       "<matplotlib.axes._subplots.AxesSubplot at 0x543972b0>"
      ]
     },
     "execution_count": 13,
     "metadata": {},
     "output_type": "execute_result"
    },
    {
     "data": {
      "image/png": "[encoded data removed]",
      "text/plain": [
       "<Figure size 432x288 with 1 Axes>"
      ]
     },
     "metadata": {
      "needs_background": "light"
     },
     "output_type": "display_data"
    }
   ],
   "source": [
    "print(metrics['M4'].idxmax(),metrics['M4'].max())\n",
    "stock_lists[metrics['M4'].idxmax()]['open'].plot()"
   ]
  },
  {
   "cell_type": "code",
   "execution_count": 14,
   "metadata": {},
   "outputs": [
    {
     "name": "stdout",
     "output_type": "stream",
     "text": [
      "146\n"
     ]
    },
    {
     "data": {
      "image/png": "[encoded data removed]",
      "text/plain": [
       "<Figure size 432x288 with 1 Axes>"
      ]
     },
     "metadata": {
      "needs_background": "light"
     },
     "output_type": "display_data"
    },
    {
     "name": "stdout",
     "output_type": "stream",
     "text": [
      "M1    0.413333\n",
      "M2    0.451577\n",
      "M3    0.483160\n",
      "M4    0.479482\n",
      "Name: 19, dtype: float64\n"
     ]
    },
    {
     "data": {
      "image/png": "[encoded data removed]",
      "text/plain": [
       "<Figure size 432x288 with 1 Axes>"
      ]
     },
     "metadata": {
      "needs_background": "light"
     },
     "output_type": "display_data"
    },
    {
     "name": "stdout",
     "output_type": "stream",
     "text": [
      "M1    0.413333\n",
      "M2    0.497592\n",
      "M3    0.446999\n",
      "M4    0.475690\n",
      "Name: 20, dtype: float64\n"
     ]
    },
    {
     "data": {
      "image/png": "[encoded data removed]",
      "text/plain": [
       "<Figure size 432x288 with 1 Axes>"
      ]
     },
     "metadata": {
      "needs_background": "light"
     },
     "output_type": "display_data"
    },
    {
     "name": "stdout",
     "output_type": "stream",
     "text": [
      "M1    0.671408\n",
      "M2    0.519077\n",
      "M3    0.960846\n",
      "M4    0.694058\n",
      "Name: 41, dtype: float64\n"
     ]
    }
   ],
   "source": [
    "# Define patterns that comply with the metrics stablished, to get benefit in the stock transaction\n",
    "\n",
    "index_pattern = []\n",
    "index_pattern_bull = metrics['M4'][(metrics['M4']>.4) & ((metrics['maxi_index']-metrics['index_start'])>(size*0.8))].index\n",
    "index_pattern_bear = metrics['M4'][(metrics['M4']>.4) & ((metrics['mini_index']-metrics['index_start'])>(size*0.8))].index\n",
    "# index_pattern_bull = metrics['M4'][(metrics['M4']>.4) & (metrics['M4']<.7) & ((metrics['maxi_index']-metrics['index_start'])>(size*0.85))].index\n",
    "# index_pattern_bear = metrics['M4'][(metrics['M4']>.4) & (metrics['M4']<.7) & ((metrics['mini_index']-metrics['index_start'])>(size*0.85))].index\n",
    "# index_pattern = index_pattern_bull.values[0:-2] + index_pattern_bear.values[0:-2]\n",
    "\n",
    "for ai in index_pattern_bear:\n",
    "    index_pattern.append(ai) \n",
    "for ai in index_pattern_bull:\n",
    "    index_pattern.append(ai)\n",
    "# print(index_pattern)\n",
    "\n",
    "print(len(index_pattern_bull))\n",
    "for a in index_pattern_bull[0:3]:\n",
    "    stock_lists[a]['open'].plot()\n",
    "    plt.show()\n",
    "    print(metrics.iloc[a][['M1','M2','M3','M4']])\n",
    "    "
   ]
  },
  {
   "cell_type": "code",
   "execution_count": 15,
   "metadata": {},
   "outputs": [
    {
     "name": "stdout",
     "output_type": "stream",
     "text": [
      "194\n"
     ]
    },
    {
     "data": {
      "image/png": "[encoded data removed]",
      "text/plain": [
       "<Figure size 432x288 with 1 Axes>"
      ]
     },
     "metadata": {
      "needs_background": "light"
     },
     "output_type": "display_data"
    },
    {
     "name": "stdout",
     "output_type": "stream",
     "text": [
      "M1    0.478568\n",
      "M2    0.549254\n",
      "M3    0.294298\n",
      "M4    0.422442\n",
      "Name: 13, dtype: float64\n"
     ]
    },
    {
     "data": {
      "image/png": "[encoded data removed]",
      "text/plain": [
       "<Figure size 432x288 with 1 Axes>"
      ]
     },
     "metadata": {
      "needs_background": "light"
     },
     "output_type": "display_data"
    },
    {
     "name": "stdout",
     "output_type": "stream",
     "text": [
      "M1    0.468000\n",
      "M2    0.588431\n",
      "M3    0.254288\n",
      "M4    0.573302\n",
      "Name: 16, dtype: float64\n"
     ]
    },
    {
     "data": {
      "image/png": "[encoded data removed]",
      "text/plain": [
       "<Figure size 432x288 with 1 Axes>"
      ]
     },
     "metadata": {
      "needs_background": "light"
     },
     "output_type": "display_data"
    },
    {
     "name": "stdout",
     "output_type": "stream",
     "text": [
      "M1    0.468000\n",
      "M2    0.630600\n",
      "M3    0.488188\n",
      "M4    0.552840\n",
      "Name: 17, dtype: float64\n"
     ]
    }
   ],
   "source": [
    "print(len(index_pattern))\n",
    "for a in index_pattern[0:3]:\n",
    "    stock_lists[a]['open'].plot()\n",
    "    plt.show()\n",
    "    print(metrics.iloc[a][['M1','M2','M3','M4']])\n"
   ]
  },
  {
   "cell_type": "code",
   "execution_count": 17,
   "metadata": {},
   "outputs": [],
   "source": [
    "# # stock_lists[12].iloc[0][0]\n",
    "# end = round(size*.8)\n",
    "# # stock_lists_temp_X\n",
    "# stock_lists_X = []\n",
    "# for stock_X in lc_stock:\n",
    "    \n",
    "#     stock_lists_temp_X = [stock_history[stock_history['company']==name][['open','company']][i:i+size] for i in \n",
    "#                         range(0, len(stock_history[stock_history['company']==name][['open']]), step)]\n",
    "#     stock_lists_X = stock_lists_X + stock_lists_temp_X"
   ]
  },
  {
   "cell_type": "code",
   "execution_count": 18,
   "metadata": {},
   "outputs": [
    {
     "ename": "TypeError",
     "evalue": "'builtin_function_or_method' object is not subscriptable",
     "output_type": "error",
     "traceback": [
      "\u001b[1;31m---------------------------------------------------------------------------\u001b[0m",
      "\u001b[1;31mTypeError\u001b[0m                                 Traceback (most recent call last)",
      "\u001b[1;32m<ipython-input-18-8d25a0b4e8a6>\u001b[0m in \u001b[0;36m<module>\u001b[1;34m\u001b[0m\n\u001b[0;32m      2\u001b[0m \u001b[0mStock_X\u001b[0m \u001b[1;33m=\u001b[0m \u001b[1;33m[\u001b[0m\u001b[1;33m]\u001b[0m\u001b[1;33m\u001b[0m\u001b[1;33m\u001b[0m\u001b[0m\n\u001b[0;32m      3\u001b[0m \u001b[0mStock_y\u001b[0m \u001b[1;33m=\u001b[0m \u001b[1;33m[\u001b[0m\u001b[1;33m]\u001b[0m\u001b[1;33m\u001b[0m\u001b[1;33m\u001b[0m\u001b[0m\n\u001b[1;32m----> 4\u001b[1;33m \u001b[1;32mfor\u001b[0m \u001b[0ma\u001b[0m \u001b[1;32min\u001b[0m \u001b[0mrange\u001b[0m\u001b[1;33m(\u001b[0m\u001b[1;36m0\u001b[0m\u001b[1;33m,\u001b[0m\u001b[0mlen\u001b[0m\u001b[1;33m[\u001b[0m\u001b[0mstock_lists\u001b[0m\u001b[1;33m]\u001b[0m\u001b[1;33m)\u001b[0m\u001b[1;33m:\u001b[0m\u001b[1;33m\u001b[0m\u001b[1;33m\u001b[0m\u001b[0m\n\u001b[0m\u001b[0;32m      5\u001b[0m     \u001b[0mStock_X\u001b[0m\u001b[1;33m.\u001b[0m\u001b[0mappend\u001b[0m\u001b[1;33m(\u001b[0m\u001b[0mlist\u001b[0m\u001b[1;33m(\u001b[0m\u001b[0mstock_lists\u001b[0m\u001b[1;33m[\u001b[0m\u001b[0ma\u001b[0m\u001b[1;33m]\u001b[0m\u001b[1;33m.\u001b[0m\u001b[0mloc\u001b[0m\u001b[1;33m[\u001b[0m\u001b[0mmetrics\u001b[0m\u001b[1;33m[\u001b[0m\u001b[0ma\u001b[0m\u001b[1;33m]\u001b[0m\u001b[1;33m.\u001b[0m\u001b[0mloc\u001b[0m\u001b[1;33m[\u001b[0m\u001b[1;34m'index_start'\u001b[0m\u001b[1;33m]\u001b[0m\u001b[1;33m:\u001b[0m\u001b[1;33m(\u001b[0m\u001b[0mmetrics\u001b[0m\u001b[1;33m[\u001b[0m\u001b[0ma\u001b[0m\u001b[1;33m]\u001b[0m\u001b[1;33m.\u001b[0m\u001b[0mloc\u001b[0m\u001b[1;33m[\u001b[0m\u001b[1;34m'index_start'\u001b[0m\u001b[1;33m]\u001b[0m \u001b[1;33m+\u001b[0m \u001b[0mend\u001b[0m\u001b[1;33m)\u001b[0m\u001b[1;33m]\u001b[0m\u001b[1;33m[\u001b[0m\u001b[1;34m'open'\u001b[0m\u001b[1;33m]\u001b[0m\u001b[1;33m)\u001b[0m\u001b[1;33m)\u001b[0m\u001b[1;33m\u001b[0m\u001b[1;33m\u001b[0m\u001b[0m\n\u001b[0;32m      6\u001b[0m     \u001b[1;32mif\u001b[0m \u001b[0mb\u001b[0m \u001b[1;32min\u001b[0m \u001b[0mindex_pattern\u001b[0m\u001b[1;33m:\u001b[0m\u001b[1;33m\u001b[0m\u001b[1;33m\u001b[0m\u001b[0m\n",
      "\u001b[1;31mTypeError\u001b[0m: 'builtin_function_or_method' object is not subscriptable"
     ]
    }
   ],
   "source": [
    "end = round(size*.8)\n",
    "Stock_X = []\n",
    "Stock_y = []\n",
    "for a in range(0,len[stock_lists]):\n",
    "    Stock_X.append(list(stock_lists[a].loc[metrics[a].loc['index_start']:(metrics[a].loc['index_start'] + end)]['open']))\n",
    "    if b in index_pattern:\n",
    "        Stock_y.append(metrics.loc[a]['M4'])\n",
    "    else:\n",
    "        Stock_y.append(0)\n",
    "    \n",
    "df_Stock_X = pd.DataFrame(Stock_X)\n",
    "df_Stock_X.dropna(inplace=True)\n",
    "# index = df_X.index\n",
    "df_Stock_y = pd.DataFrame(Stock_y)\n",
    "# df_y = df_y.loc[index]"
   ]
  },
  {
   "cell_type": "code",
   "execution_count": null,
   "metadata": {},
   "outputs": [],
   "source": [
    "metrics.loc[0]['M4']"
   ]
  },
  {
   "cell_type": "code",
   "execution_count": null,
   "metadata": {},
   "outputs": [],
   "source": [
    "stock_lists[8].loc[384:390]"
   ]
  },
  {
   "cell_type": "code",
   "execution_count": null,
   "metadata": {},
   "outputs": [],
   "source": [
    "i = 0\n",
    "\n",
    "\n",
    "# stock_lists[1400].loc[97680]\n",
    "\n",
    "# If min_pi < max_pi then max, end_pi - max_pi\n",
    "# If min_pi < max_pi then min, end_pi - min_pi"
   ]
  },
  {
   "cell_type": "code",
   "execution_count": null,
   "metadata": {},
   "outputs": [],
   "source": []
  },
  {
   "cell_type": "markdown",
   "metadata": {},
   "source": [
    "#### Appendix A: Test for different functions"
   ]
  },
  {
   "cell_type": "code",
   "execution_count": null,
   "metadata": {},
   "outputs": [],
   "source": [
    "### API AV request\n",
    "\n",
    "# ky = pd.read_csv('AVk.txt',names='A')\n",
    "# kx = ky.iloc[0][0]\n",
    "# urlx = \"https://alpha-vantage.p.rapidapi.com/query\"\n",
    "# headersx = {\n",
    "#             'x-rapidapi-host': \"alpha-vantage.p.rapidapi.com\",\n",
    "#             'x-rapidapi-key': kx\n",
    "#             }\n",
    "# sym='CODX'\n",
    "# querystring = {\"datatype\":\"csv\",\"interval\":stocks_interval,\"slice\":\"year1month5\",\"function\":\"TIME_SERIES_INTRADAY_EXTENDED\",\"symbol\":sym}\n",
    "# response = requests.request(\"GET\", urlx, headers=headersx, params=querystring)\n",
    "\n",
    "# clean_string = response.text.replace('\\r\\n',',')\n",
    "# price_list = clean_string.split(sep=\",\")\n",
    "# new_list = [price_list[i:i+6] for i in range(0, len(price_list), 6)]\n",
    "# df_temp = pd.DataFrame(new_list[1:],columns=['time', 'open', 'high', 'low', 'close', 'volume'])\n",
    "# df_temp['company'] = sym\n",
    "# df_temp"
   ]
  },
  {
   "cell_type": "code",
   "execution_count": null,
   "metadata": {},
   "outputs": [],
   "source": [
    "### API AV search\n",
    "# stock_ml.search_company('tech')"
   ]
  },
  {
   "cell_type": "code",
   "execution_count": null,
   "metadata": {},
   "outputs": [],
   "source": [
    "### Graph Stock price and stock on the same item\n",
    "\n",
    "# #Define window to graph prices and volume\n",
    "# stock_graph_start = 0\n",
    "# stock_graph_end = 432\n",
    "# stock_bucket_step = 48\n",
    "\n",
    "# #Create figure and axis objects with subplots()\n",
    "# fig,ax = plt.subplots(figsize=(20,5))\n",
    "# #Make a plot\n",
    "# ax.plot(stock_historian[stock_graph_start:stock_graph_end].index, stock_historian[stock_historian['company']==\"VHC\"][['open']][stock_graph_start:stock_graph_end], color=\"red\", marker=\".\")\n",
    "# #Set x-axis label\n",
    "# ax.set_xlabel(\"TimeFrame\",fontsize=14)\n",
    "# #Set y-axis label\n",
    "# ax.set_ylabel(\"Price\",color=\"red\",fontsize=14)\n",
    "# #Next we use twinx() function to create the second axis object “ax2”. Now we use the second axis object “ax2” to make plot of the second y-axis variable and update their labels.\n",
    "\n",
    "# #Twin object for two different y-axis on the sample plot\n",
    "# ax2=ax.twinx()\n",
    "# #Make a plot with different y-axis using second axis object\n",
    "# ax2.plot(stock_historian[stock_graph_start:stock_graph_end].index, stock_historian[stock_historian['company']==\"VHC\"][['volume']][stock_graph_start:stock_graph_end],color=\"blue\",marker=\".\")\n",
    "# ax2.set_ylabel(\"Volume\",color=\"blue\",fontsize=14)\n",
    "# plt.show()\n",
    "# # save the plot as a file\n",
    "# fig.savefig('Price_vs_Volume.png',\n",
    "#             format='png',\n",
    "#             dpi=500,\n",
    "#             bbox_inches='tight')\n",
    "# # plt.show()"
   ]
  },
  {
   "cell_type": "code",
   "execution_count": null,
   "metadata": {},
   "outputs": [],
   "source": [
    "### Graph Stocks time series without blank spaces on no trading days\n",
    "\n",
    "# def plot_ts(ts, step=5, figsize=(10,7), title=''):\n",
    "#     \"\"\"\n",
    "#     plot timeseries ignoring date gaps\n",
    "\n",
    "#     Params\n",
    "#     ------\n",
    "#     ts : pd.DataFrame or pd.Series\n",
    "#     step : int, display interval for ticks\n",
    "#     figsize : tuple, figure size\n",
    "#     title: str\n",
    "#     \"\"\"\n",
    "\n",
    "#     fig, ax = plt.subplots(figsize=figsize)\n",
    "#     ax.plot(range(ts.dropna().shape[0]), ts.dropna())\n",
    "#     ax.set_title(title)\n",
    "#     ax.set_xticks(np.arange(len(ts.dropna())))\n",
    "#     ax.set_xticklabels(ts.dropna().index.tolist());\n",
    "\n",
    "#     # tick visibility, can be slow for 200,000+ ticks \n",
    "#     xticklabels = ax.get_xticklabels() # generate list once to speed up function\n",
    "#     for i, label in enumerate(xticklabels):\n",
    "#         if not i%step==0:\n",
    "#             label.set_visible(False)  \n",
    "#     fig.autofmt_xdate()\n",
    "\n",
    "# plot_ts(stock_history[stock_history['company']==\"CODX\"][['open']][432:864],20)"
   ]
  }
 ],
 "metadata": {
  "kernelspec": {
   "display_name": "Python 3.8.2 32-bit",
   "language": "python",
   "name": "python38232bitc024c6cdd1aa40eeaa6fc32ecae9ce7e"
  },
  "language_info": {
   "codemirror_mode": {
    "name": "ipython",
    "version": 3
   },
   "file_extension": ".py",
   "mimetype": "text/x-python",
   "name": "python",
   "nbconvert_exporter": "python",
   "pygments_lexer": "ipython3",
   "version": "3.8.2"
  }
 },
 "nbformat": 4,
 "nbformat_minor": 4
}
